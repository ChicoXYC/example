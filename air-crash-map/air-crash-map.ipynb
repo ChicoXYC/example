{
 "cells": [
  {
   "cell_type": "code",
   "execution_count": 1,
   "metadata": {},
   "outputs": [],
   "source": [
    "import pandas as pd \n",
    "import plotly\n",
    "import plotly.plotly as py\n",
    "import plotly.graph_objs as go\n",
    "import matplotlib.pyplot as plt"
   ]
  },
  {
   "cell_type": "code",
   "execution_count": 2,
   "metadata": {},
   "outputs": [
    {
     "data": {
      "text/html": [
       "<div>\n",
       "<style scoped>\n",
       "    .dataframe tbody tr th:only-of-type {\n",
       "        vertical-align: middle;\n",
       "    }\n",
       "\n",
       "    .dataframe tbody tr th {\n",
       "        vertical-align: top;\n",
       "    }\n",
       "\n",
       "    .dataframe thead th {\n",
       "        text-align: right;\n",
       "    }\n",
       "</style>\n",
       "<table border=\"1\" class=\"dataframe\">\n",
       "  <thead>\n",
       "    <tr style=\"text-align: right;\">\n",
       "      <th></th>\n",
       "      <th>start_lat</th>\n",
       "      <th>start_lon</th>\n",
       "      <th>end_lat1</th>\n",
       "      <th>end_lon1</th>\n",
       "      <th>end_lat2</th>\n",
       "      <th>end_lon2</th>\n",
       "      <th>end_lat3</th>\n",
       "      <th>end_lon3</th>\n",
       "      <th>end_lat4</th>\n",
       "      <th>end_lon4</th>\n",
       "    </tr>\n",
       "  </thead>\n",
       "  <tbody>\n",
       "    <tr>\n",
       "      <th>0</th>\n",
       "      <td>48.579966</td>\n",
       "      <td>7.750007</td>\n",
       "      <td>48.866693</td>\n",
       "      <td>2.333335</td>\n",
       "      <td>NaN</td>\n",
       "      <td>NaN</td>\n",
       "      <td>NaN</td>\n",
       "      <td>NaN</td>\n",
       "      <td>NaN</td>\n",
       "      <td>NaN</td>\n",
       "    </tr>\n",
       "    <tr>\n",
       "      <th>1</th>\n",
       "      <td>43.134186</td>\n",
       "      <td>5.918822</td>\n",
       "      <td>36.763065</td>\n",
       "      <td>3.050553</td>\n",
       "      <td>NaN</td>\n",
       "      <td>NaN</td>\n",
       "      <td>NaN</td>\n",
       "      <td>NaN</td>\n",
       "      <td>NaN</td>\n",
       "      <td>NaN</td>\n",
       "    </tr>\n",
       "    <tr>\n",
       "      <th>2</th>\n",
       "      <td>48.866693</td>\n",
       "      <td>2.333335</td>\n",
       "      <td>50.083337</td>\n",
       "      <td>14.465980</td>\n",
       "      <td>NaN</td>\n",
       "      <td>NaN</td>\n",
       "      <td>NaN</td>\n",
       "      <td>NaN</td>\n",
       "      <td>NaN</td>\n",
       "      <td>NaN</td>\n",
       "    </tr>\n",
       "    <tr>\n",
       "      <th>3</th>\n",
       "      <td>40.749979</td>\n",
       "      <td>-73.980017</td>\n",
       "      <td>48.866693</td>\n",
       "      <td>2.333335</td>\n",
       "      <td>NaN</td>\n",
       "      <td>NaN</td>\n",
       "      <td>NaN</td>\n",
       "      <td>NaN</td>\n",
       "      <td>NaN</td>\n",
       "      <td>NaN</td>\n",
       "    </tr>\n",
       "    <tr>\n",
       "      <th>4</th>\n",
       "      <td>52.521819</td>\n",
       "      <td>13.401549</td>\n",
       "      <td>48.129942</td>\n",
       "      <td>11.574993</td>\n",
       "      <td>NaN</td>\n",
       "      <td>NaN</td>\n",
       "      <td>NaN</td>\n",
       "      <td>NaN</td>\n",
       "      <td>NaN</td>\n",
       "      <td>NaN</td>\n",
       "    </tr>\n",
       "  </tbody>\n",
       "</table>\n",
       "</div>"
      ],
      "text/plain": [
       "   start_lat  start_lon   end_lat1   end_lon1  end_lat2  end_lon2  end_lat3  \\\n",
       "0  48.579966   7.750007  48.866693   2.333335       NaN       NaN       NaN   \n",
       "1  43.134186   5.918822  36.763065   3.050553       NaN       NaN       NaN   \n",
       "2  48.866693   2.333335  50.083337  14.465980       NaN       NaN       NaN   \n",
       "3  40.749979 -73.980017  48.866693   2.333335       NaN       NaN       NaN   \n",
       "4  52.521819  13.401549  48.129942  11.574993       NaN       NaN       NaN   \n",
       "\n",
       "   end_lon3  end_lat4  end_lon4  \n",
       "0       NaN       NaN       NaN  \n",
       "1       NaN       NaN       NaN  \n",
       "2       NaN       NaN       NaN  \n",
       "3       NaN       NaN       NaN  \n",
       "4       NaN       NaN       NaN  "
      ]
     },
     "execution_count": 2,
     "metadata": {},
     "output_type": "execute_result"
    }
   ],
   "source": [
    "df_flight_paths = pd.read_csv('path.csv')\n",
    "df_flight_paths.head()"
   ]
  },
  {
   "cell_type": "code",
   "execution_count": 3,
   "metadata": {},
   "outputs": [
    {
     "data": {
      "text/html": [
       "<div>\n",
       "<style scoped>\n",
       "    .dataframe tbody tr th:only-of-type {\n",
       "        vertical-align: middle;\n",
       "    }\n",
       "\n",
       "    .dataframe tbody tr th {\n",
       "        vertical-align: top;\n",
       "    }\n",
       "\n",
       "    .dataframe thead th {\n",
       "        text-align: right;\n",
       "    }\n",
       "</style>\n",
       "<table border=\"1\" class=\"dataframe\">\n",
       "  <thead>\n",
       "    <tr style=\"text-align: right;\">\n",
       "      <th></th>\n",
       "      <th>station</th>\n",
       "      <th>lat</th>\n",
       "      <th>lng</th>\n",
       "    </tr>\n",
       "  </thead>\n",
       "  <tbody>\n",
       "    <tr>\n",
       "      <th>0</th>\n",
       "      <td>Paris</td>\n",
       "      <td>48.866693</td>\n",
       "      <td>2.333335</td>\n",
       "    </tr>\n",
       "    <tr>\n",
       "      <th>1</th>\n",
       "      <td>Algiers</td>\n",
       "      <td>36.763065</td>\n",
       "      <td>3.050553</td>\n",
       "    </tr>\n",
       "    <tr>\n",
       "      <th>2</th>\n",
       "      <td>Prague</td>\n",
       "      <td>50.083337</td>\n",
       "      <td>14.465980</td>\n",
       "    </tr>\n",
       "    <tr>\n",
       "      <th>3</th>\n",
       "      <td>Paris</td>\n",
       "      <td>48.866693</td>\n",
       "      <td>2.333335</td>\n",
       "    </tr>\n",
       "    <tr>\n",
       "      <th>4</th>\n",
       "      <td>Munich</td>\n",
       "      <td>48.129942</td>\n",
       "      <td>11.574993</td>\n",
       "    </tr>\n",
       "  </tbody>\n",
       "</table>\n",
       "</div>"
      ],
      "text/plain": [
       "   station        lat        lng\n",
       "0    Paris  48.866693   2.333335\n",
       "1  Algiers  36.763065   3.050553\n",
       "2   Prague  50.083337  14.465980\n",
       "3    Paris  48.866693   2.333335\n",
       "4   Munich  48.129942  11.574993"
      ]
     },
     "execution_count": 3,
     "metadata": {},
     "output_type": "execute_result"
    }
   ],
   "source": [
    "df_airports = pd.read_csv('station.csv')\n",
    "df_airports.head()"
   ]
  },
  {
   "cell_type": "code",
   "execution_count": 4,
   "metadata": {},
   "outputs": [],
   "source": [
    "airports1 = [ dict(\n",
    "        type = 'scattergeo',\n",
    "        lon = df_airports['lng'],\n",
    "        lat = df_airports['lat'],\n",
    "        mode = 'markers',\n",
    "        marker = dict( \n",
    "            size=3,\n",
    "            color='rgb(255, 0, 0)',\n",
    "            opacity=0.7\n",
    "        ))]\n",
    "airports2 = [ dict(\n",
    "        type = 'scattergeo',\n",
    "        lon = df_airports['lng'],\n",
    "        lat = df_airports['lat'],\n",
    "        mode = 'markers',\n",
    "        marker = dict( \n",
    "            size=1,\n",
    "            color='rgb(255, 0, 0)',\n",
    "            opacity=1\n",
    "        ))]"
   ]
  },
  {
   "cell_type": "code",
   "execution_count": 5,
   "metadata": {},
   "outputs": [],
   "source": [
    "flight_paths = []\n",
    "for i in range( len( df_flight_paths ) ):\n",
    "    flight_paths.append(\n",
    "        dict(\n",
    "            type = 'scattergeo',\n",
    "            lon = [ df_flight_paths['start_lon'][i], df_flight_paths['end_lon1'][i] ],\n",
    "            lat = [ df_flight_paths['start_lat'][i], df_flight_paths['end_lat1'][i] ],\n",
    "            mode = 'lines',\n",
    "            line = dict(\n",
    "                width = 0.5,\n",
    "                alpha = 0.2,\n",
    "                color = 'blue',\n",
    "            )\n",
    "        )\n",
    "    )"
   ]
  },
  {
   "cell_type": "code",
   "execution_count": 6,
   "metadata": {},
   "outputs": [],
   "source": [
    "layout = dict(\n",
    "        title = 'flight path',\n",
    "        showlegend = False,         \n",
    "        geo = dict(\n",
    "            projection = dict( type=\"world\" ),\n",
    "            resolution = 50,\n",
    "            showland = True,\n",
    "            landcolor = 'rgb(243, 243, 243)',\n",
    "            countrycolor = 'rgb(204, 204, 204)',\n",
    "\n",
    "            lataxis = dict(\n",
    "                #range = [ 20, 60],\n",
    "                showgrid = False,\n",
    "                tickmode = \"linear\",\n",
    "                dtick = 50\n",
    "            ),\n",
    "            lonaxis = dict(\n",
    "                #range = [-100, 20],\n",
    "                showgrid = False,\n",
    "                tickmode = \"linear\",\n",
    "                dtick = 60\n",
    "            ),\n",
    "        ),\n",
    "    )"
   ]
  },
  {
   "cell_type": "code",
   "execution_count": 7,
   "metadata": {},
   "outputs": [
    {
     "name": "stderr",
     "output_type": "stream",
     "text": [
      "/Users/xuyucan/Desktop/Chicoxyc/venv/lib/python3.6/site-packages/IPython/core/display.py:689: UserWarning:\n",
      "\n",
      "Consider using IPython.display.IFrame instead\n",
      "\n"
     ]
    },
    {
     "data": {
      "text/html": [
       "<iframe id=\"igraph\" scrolling=\"no\" style=\"border:none;\" seamless=\"seamless\" src=\"https://plot.ly/~shawisbadcode/2.embed\" height=\"525px\" width=\"100%\"></iframe>"
      ],
      "text/plain": [
       "<plotly.tools.PlotlyDisplay object>"
      ]
     },
     "execution_count": 7,
     "metadata": {},
     "output_type": "execute_result"
    }
   ],
   "source": [
    "fig = dict(data=airports1+airports2+flight_paths, layout=layout)\n",
    "py.iplot(fig, validate=False, filename='flight path')"
   ]
  },
  {
   "cell_type": "code",
   "execution_count": null,
   "metadata": {},
   "outputs": [],
   "source": []
  }
 ],
 "metadata": {
  "kernelspec": {
   "display_name": "Python 3",
   "language": "python",
   "name": "python3"
  },
  "language_info": {
   "codemirror_mode": {
    "name": "ipython",
    "version": 3
   },
   "file_extension": ".py",
   "mimetype": "text/x-python",
   "name": "python",
   "nbconvert_exporter": "python",
   "pygments_lexer": "ipython3",
   "version": "3.6.3"
  }
 },
 "nbformat": 4,
 "nbformat_minor": 2
}
